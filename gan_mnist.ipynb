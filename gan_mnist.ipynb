{
  "nbformat": 4,
  "nbformat_minor": 0,
  "metadata": {
    "colab": {
      "provenance": [],
      "gpuType": "T4",
      "authorship_tag": "ABX9TyOZXayaCyw/SB1ZkcmJ0W7+",
      "include_colab_link": true
    },
    "kernelspec": {
      "name": "python3",
      "display_name": "Python 3"
    },
    "language_info": {
      "name": "python"
    },
    "accelerator": "GPU"
  },
  "cells": [
    {
      "cell_type": "markdown",
      "metadata": {
        "id": "view-in-github",
        "colab_type": "text"
      },
      "source": [
        "<a href=\"https://colab.research.google.com/github/dangtbthi/gan_mnist/blob/main/gan_mnist.ipynb\" target=\"_parent\"><img src=\"https://colab.research.google.com/assets/colab-badge.svg\" alt=\"Open In Colab\"/></a>"
      ]
    },
    {
      "cell_type": "code",
      "execution_count": 1,
      "metadata": {
        "id": "CVdOI6Ntlek7"
      },
      "outputs": [],
      "source": [
        "import torch\n",
        "import torchvision\n",
        "import torch.nn as nn\n",
        "import torch.nn.init as init\n",
        "import torch.nn.functional as F\n",
        "import torch.optim as optim\n",
        "import numpy as np\n",
        "import matplotlib.pyplot as plt\n",
        "\n",
        "from torchvision import datasets, transforms\n",
        "from torch.utils.data import Dataset, DataLoader, random_split\n",
        "from tqdm import tqdm"
      ]
    },
    {
      "cell_type": "code",
      "source": [
        "%pip install torchinfo -q\n",
        "from torchinfo import summary"
      ],
      "metadata": {
        "id": "p1fa7zkTmLiO"
      },
      "execution_count": 2,
      "outputs": []
    },
    {
      "cell_type": "markdown",
      "source": [
        "# GAN Model"
      ],
      "metadata": {
        "id": "f6v8Y2E3mnRU"
      }
    },
    {
      "cell_type": "markdown",
      "source": [
        "GAN model consists two multilayer-perceptron (MLP) neural networks: the discriminator ($D$) and the generator ($G$).\n",
        "\n",
        "$D$ and $G$ play the following two-player minimax game with value function $V (G, D)$:\n",
        "$$\n",
        "\\min_G \\max_D V(D, G) =\n",
        "\\mathbb{E}_{x \\sim p_{\\text{data}}(x)} [\\log D(x)]\n",
        "+ \\mathbb{E}_{z \\sim p_z(z)} [\\log (1 - D(G(z)))].\n",
        "$$"
      ],
      "metadata": {
        "id": "7PjJGMjmlVE3"
      }
    },
    {
      "cell_type": "code",
      "source": [
        "class Discriminator(nn.Module):\n",
        "    def __init__(self, in_features):\n",
        "          super().__init__()\n",
        "          self.in_features = in_features\n",
        "\n",
        "          self.model = nn.Sequential(\n",
        "              nn.Linear(in_features, 128),\n",
        "              nn.LeakyReLU(0.1),\n",
        "              nn.Linear(128, 1),\n",
        "              nn.Sigmoid()\n",
        "          )\n",
        "\n",
        "    def forward(self, x):\n",
        "          return self.model(x)"
      ],
      "metadata": {
        "id": "6E1WGTzZmXGE"
      },
      "execution_count": 3,
      "outputs": []
    },
    {
      "cell_type": "code",
      "source": [
        "class Generator(nn.Module):\n",
        "    def __init__(self, latent_dim, img_dim):\n",
        "        super().__init__()\n",
        "        self.latent_dim = latent_dim\n",
        "        self.img_dim = img_dim\n",
        "\n",
        "        self.model = nn.Sequential(\n",
        "            nn.Linear(latent_dim, 256),\n",
        "            nn.LeakyReLU(0.1),\n",
        "            nn.Linear(256, img_dim),\n",
        "            nn.Tanh()\n",
        "        )\n",
        "\n",
        "    def forward(self, x):\n",
        "        return self.model(x)"
      ],
      "metadata": {
        "id": "sBLrrXykoka0"
      },
      "execution_count": 4,
      "outputs": []
    },
    {
      "cell_type": "markdown",
      "source": [
        "# Dataset"
      ],
      "metadata": {
        "id": "UMI-YbDypW10"
      }
    },
    {
      "cell_type": "code",
      "source": [
        "transform = transforms.Compose([\n",
        "    transforms.ToTensor(),\n",
        "    transforms.Normalize((0.5,), (0.5,))\n",
        "])\n",
        "\n",
        "train_dataset = datasets.MNIST(root='./data', train=True, download=True, transform=transform)"
      ],
      "metadata": {
        "colab": {
          "base_uri": "https://localhost:8080/"
        },
        "id": "r0aeWGLMpVN3",
        "outputId": "4025d6c0-656d-4846-be62-5fa0a7e31db2"
      },
      "execution_count": 5,
      "outputs": [
        {
          "output_type": "stream",
          "name": "stderr",
          "text": [
            "100%|██████████| 9.91M/9.91M [00:02<00:00, 4.54MB/s]\n",
            "100%|██████████| 28.9k/28.9k [00:00<00:00, 133kB/s]\n",
            "100%|██████████| 1.65M/1.65M [00:01<00:00, 1.09MB/s]\n",
            "100%|██████████| 4.54k/4.54k [00:00<00:00, 8.21MB/s]\n"
          ]
        }
      ]
    },
    {
      "cell_type": "code",
      "source": [
        "batch_size = 32\n",
        "img_dim = 28*28\n",
        "latent_dim = 64\n",
        "lr = 3e-4\n",
        "device = torch.device('cuda' if torch.cuda.is_available() else 'cpu')\n",
        "\n",
        "train_loader = DataLoader(train_dataset, batch_size=32, shuffle=True)"
      ],
      "metadata": {
        "id": "rs3Zvpj1pfG9"
      },
      "execution_count": 6,
      "outputs": []
    },
    {
      "cell_type": "code",
      "source": [
        "num_epochs = 50\n",
        "loss_fn = nn.BCELoss()"
      ],
      "metadata": {
        "id": "f8syCG7Sp43P"
      },
      "execution_count": 7,
      "outputs": []
    },
    {
      "cell_type": "code",
      "source": [
        "disc = Discriminator(img_dim).to(device)\n",
        "gen = Generator(latent_dim, img_dim).to(device)\n",
        "disc_opt = torch.optim.Adam(disc.parameters(), lr=lr)\n",
        "gen_opt = torch.optim.Adam(gen.parameters(), lr=lr)"
      ],
      "metadata": {
        "id": "TOrimmtoqfuN"
      },
      "execution_count": 8,
      "outputs": []
    },
    {
      "cell_type": "code",
      "source": [
        "for epoch in tqdm(range(num_epochs)):\n",
        "    for batch_idx, (real, _) in enumerate(train_loader):\n",
        "        real = real.view(-1, 784).to(device)\n",
        "        batch_size = real.shape[0]\n",
        "\n",
        "        # Train discriminator: max log(D(x)) + log(1-D(G(z)))\n",
        "        noise = torch.randn(batch_size, latent_dim).to(device)\n",
        "        fake = gen(noise)\n",
        "        disc_real = disc(real).view(-1)\n",
        "        lossD_real = loss_fn(disc_real, torch.ones_like(disc_real))\n",
        "        disc_fake = disc(fake).view(-1)\n",
        "        lossD_fake = loss_fn(disc_fake, torch.zeros_like(disc_fake))\n",
        "        lossD = (lossD_real + lossD_fake) / 2\n",
        "        disc.zero_grad()\n",
        "        lossD.backward(retain_graph=True)\n",
        "        disc_opt.step()\n",
        "\n",
        "        # Train generator\n",
        "        output = disc(fake).view(-1)\n",
        "        lossG = loss_fn(output, torch.ones_like(output))\n",
        "        gen.zero_grad()\n",
        "        lossG.backward()\n",
        "        gen_opt.step()\n"
      ],
      "metadata": {
        "colab": {
          "base_uri": "https://localhost:8080/"
        },
        "id": "2147sUIWq1Ae",
        "outputId": "146063cb-48d0-457d-8fe7-5450e0bcd1df"
      },
      "execution_count": 9,
      "outputs": [
        {
          "output_type": "stream",
          "name": "stderr",
          "text": [
            "100%|██████████| 50/50 [16:39<00:00, 19.98s/it]\n"
          ]
        }
      ]
    },
    {
      "cell_type": "code",
      "source": [
        "gen.eval()\n",
        "num_samples = 16\n",
        "noise = torch.randn(num_samples, latent_dim).to(device)\n",
        "with torch.no_grad():\n",
        "    fake_images = gen(noise).reshape(-1, 1, 28, 28).cpu()\n",
        "\n",
        "# Hiển thị ảnh\n",
        "fig, axes = plt.subplots(4, 4, figsize=(6, 6))\n",
        "for i, ax in enumerate(axes.flatten()):\n",
        "    ax.imshow(fake_images[i].squeeze(), cmap=\"gray\")\n",
        "    ax.axis(\"off\")\n",
        "plt.tight_layout()\n",
        "plt.show()"
      ],
      "metadata": {
        "colab": {
          "base_uri": "https://localhost:8080/",
          "height": 607
        },
        "id": "xbXTu9b5wp3m",
        "outputId": "9e8a7089-fdb6-4132-a0c2-2492d46cad1d"
      },
      "execution_count": 10,
      "outputs": [
        {
          "output_type": "display_data",
          "data": {
            "text/plain": [
              "<Figure size 600x600 with 16 Axes>"
            ],
            "image/png": "[encoded data removed]"
          },
          "metadata": {}
        }
      ]
    }
  ]
}